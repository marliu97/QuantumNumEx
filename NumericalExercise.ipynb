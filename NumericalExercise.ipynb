{
 "cells": [
  {
   "cell_type": "markdown",
   "metadata": {},
   "source": [
    "# FY2045 Quantum Mechanics - Numerical Exercise\n",
    "Marte K. Høiskar and Maren Lium"
   ]
  },
  {
   "cell_type": "markdown",
   "metadata": {},
   "source": [
    "## Problem 1"
   ]
  },
  {
   "cell_type": "markdown",
   "metadata": {},
   "source": [
    "**Task:**\n",
    "Calculate initial values for $\\Psi _I (x, t)$ and $\\Psi _R(x, t+\\frac{\\Delta t}{2})$ using Eq. (8). Normalise the wave function such that\n",
    "\n",
    "\\begin{equation}\n",
    "\\int_{0}^{L} |\\Psi (x, t)|^2 \\text{d}x = 1.\n",
    "\\end{equation}\n",
    "\n",
    "Make a plot of the real and imaginary parts of Ψ, selecting suitable values for ∆x,\n",
    "xs and σx to make your figure look similar to Figure 1. Make sure ∆x is small\n",
    "enough that each oscillation of the wave function is resolved by enough points to\n",
    "look fairly smooth. Furthermore, make a plot of the probability density for finding\n",
    "the particle represented by the wave packet, given by $|Ψ(x, t)|^2$."
   ]
  },
  {
   "cell_type": "markdown",
   "metadata": {},
   "source": [
    "#### Solution:\n",
    "Expanding Eq. (8) produce one real and one imaginary part,\n",
    "\n",
    "\\begin{equation}\n",
    "\\Psi (x, t) = Ce^{\\frac{(x-x_s)^2}{2{\\sigma_x}^2}}e^{i(k_0x-\\omega t)} = Ce^{\\frac{(x-x_s)^2}{2{\\sigma_x}^2}}(\\cos(k_0x-\\omega t)+i\\sin(k_0x-\\omega t)).\n",
    "\\end{equation}\n",
    "\n",
    "Hence, \n",
    "\n",
    "\\begin{equation}\n",
    "\\Psi_I (x, t) = Ce^{\\frac{(x-x_s)^2}{2{\\sigma_x}^2}}\\sin(k_0x-\\omega t))\n",
    "\\quad\\text{and}\\quad\n",
    "\\Psi_R \\left(x, t + \\frac{\\Delta t}{2}\\right) = Ce^{\\frac{(x-x_s)^2}{2{\\sigma_x}^2}}\\cos\\left(k_0x-\\omega \\left(t+\\frac{\\Delta t}{2}\\right)\\right).\n",
    "\\end{equation}\n",
    "\n",
    "The initial values for $\\Psi _I (x, t)$ and $\\Psi _R(x, t+\\frac{\\Delta t}{2})$ are\n",
    "\n",
    "\\begin{equation}\n",
    "\\Psi_I (x, 0) = Ce^{\\frac{(x-x_s)^2}{2{\\sigma_x}^2}}\\sin(k_0x)\n",
    "\\quad\\text{and}\\quad\n",
    "\\Psi_R \\left(x, \\frac{\\Delta t}{2}\\right) = Ce^{\\frac{(x-x_s)^2}{2{\\sigma_x}^2}}\\cos\\left(k_0x-\\omega \\frac{\\Delta t}{2}\\right).\n",
    "\\end{equation}"
   ]
  },
  {
   "cell_type": "markdown",
   "metadata": {},
   "source": [
    "## Problem 2"
   ]
  },
  {
   "cell_type": "markdown",
   "metadata": {},
   "source": [
    "#### Task:\n",
    "Start out a wave packet at $x_s = 5$, and propagate it a distance $\\frac{L}{2}=10$, i.e., until it reaches $x = 15$. This will take a time $T = \\frac{L}{2v_g}$, where $v_g$, given by \n",
    "\n",
    "\\begin{equation}\n",
    "v_g = \\frac{\\partial\\omega}{\\partial k}\n",
    "\\end{equation}\n",
    "\n",
    "is the group velocity at the wave number k0. Repeat this procedure for different values of σx, for example $\\sigma_x = 0.5$, $\\sigma_x = 1.0$ and $\\sigma_x = 2.0$. Describe what happens,and produce a figure that shows the initial probability density $|\\Psi (x, t)|^2$ centered on $x_s = 5$, and the same for the propagated wave centered on $x = 15$, for two\n",
    "different $\\sigma_x$, for example $\\sigma_x$ = 1.5 and $\\sigma_x$ = 0.5.\n",
    "\n",
    "To successfully carry out this computation, you will need to choose ∆t as described in the section on numerical stability. Begin by choosing a very small number, for example 100 times smaller than the limit. Propagate the wave function a few timesteps, and plot the results. See if you can increase $\\Delta t$ somewhat, as that will make the computations go faster. Describe what happens if you increase $\\Delta t$ too much. For the rest of the problems, choose a value for $\\Delta t$ which is somewhat smaller than the largest value you found to work.\n",
    "\n",
    "Note that the computations required for this problem should take no more than a few seconds of computer time."
   ]
  },
  {
   "cell_type": "markdown",
   "metadata": {},
   "source": [
    "#### Solution:"
   ]
  },
  {
   "cell_type": "code",
   "execution_count": null,
   "metadata": {},
   "outputs": [],
   "source": [
    "delta_t = "
   ]
  },
  {
   "cell_type": "markdown",
   "metadata": {},
   "source": [
    "## Problem 3"
   ]
  },
  {
   "cell_type": "markdown",
   "metadata": {},
   "source": [
    "Introduce a barrier of width $l = \\frac{L}{50}$ and height $V_0 = \\frac{E}{2}$ in the middle of the domain by setting $V(x)$ to\n",
    "\n",
    "\\begin{equation}\n",
    "V(x)=\\begin{cases}\n",
    "    \\frac{E}{2} & \\text{if $\\frac{L}{2} - \\frac{l}{2} < x < \\frac{L}{2} + \\frac{l}{2}$}.\\\\\n",
    "    0 & \\text{otherwise}\n",
    "  \\end{cases}\n",
    "\\end{equation}\n",
    "\n",
    "Propagate a wave packet across the barrier. You can use the same T that you found in Problem 2. Produce a plot which shows that the wave function has been partially transmitted, partially reflected. Calculate the probability of reflection and transmission by calculating\n",
    "\n",
    "\\begin{equation}\n",
    "\\int_{0}^{\\frac{L}{2}}|\\Psi (x, t)|^2 dx \n",
    "\\quad\\text{and}\\quad\n",
    "\\int_{\\frac{L}{2}}^{L}|\\Psi (x, t)|^2 dx. \n",
    "\\end{equation}\n",
    "\n",
    "You should confirm that T is large enough that the wave packet has completely cleared the barrier, i.e, your plot should look similar to Figure 2."
   ]
  },
  {
   "cell_type": "markdown",
   "metadata": {},
   "source": [
    "## Problem 4"
   ]
  },
  {
   "cell_type": "markdown",
   "metadata": {},
   "source": [
    "Using the same procedure as in Problem 3, calculate the probabilities of transmission an reflection for 50 different barrier heights V0 from 0E to $\\frac{3E}{2}$. Make a graph showing the probabilities of reflection and transmission as a function of $E/V_0$."
   ]
  },
  {
   "cell_type": "markdown",
   "metadata": {},
   "source": [
    "## Problem 5"
   ]
  },
  {
   "cell_type": "markdown",
   "metadata": {},
   "source": [
    "Using a barrier height of $\\frac{9E}{10}$, calculate the probabilities of transmission and reflection for 50 different barrier widths from 0 to $L/20$. Make a graph showing the probabilities of reflection and transmission as a function of barrier width. Note that you will have to use $N_x = 1000$ or larger to be able to resolve all the different barrier thicknesses."
   ]
  },
  {
   "cell_type": "code",
   "execution_count": null,
   "metadata": {
    "collapsed": true
   },
   "outputs": [],
   "source": []
  }
 ],
 "metadata": {
  "kernelspec": {
   "display_name": "Python 3",
   "language": "python",
   "name": "python3"
  },
  "language_info": {
   "codemirror_mode": {
    "name": "ipython",
    "version": 3
   },
   "file_extension": ".py",
   "mimetype": "text/x-python",
   "name": "python",
   "nbconvert_exporter": "python",
   "pygments_lexer": "ipython3",
   "version": "3.6.8"
  }
 },
 "nbformat": 4,
 "nbformat_minor": 2
}
