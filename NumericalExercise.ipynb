{
 "cells": [
  {
   "cell_type": "markdown",
   "metadata": {},
   "source": [
    "# FY2045 Quantum Mechanics - Numerical Exercise\n",
    "Marte K. Høiskar and Maren Lium"
   ]
  },
  {
   "cell_type": "markdown",
   "metadata": {},
   "source": [
    "## Problem 1"
   ]
  },
  {
   "cell_type": "markdown",
   "metadata": {},
   "source": [
    "**Task:**\n",
    "Calculate initial values for $\\Psi _I (x, t)$ and $\\Psi _R(x, t+\\frac{\\Delta t}{2})$ using Eq. (8). Normalise the wave function such that\n",
    "\n",
    "\\begin{equation}\n",
    "\\int_{0}^{L} |\\Psi (x, t)|^2 \\text{d}x = 1.\n",
    "\\end{equation}\n",
    "\n",
    "Make a plot of the real and imaginary parts of Ψ, selecting suitable values for ∆x,\n",
    "xs and σx to make your figure look similar to Figure 1. Make sure ∆x is small\n",
    "enough that each oscillation of the wave function is resolved by enough points to\n",
    "look fairly smooth. Furthermore, make a plot of the probability density for finding\n",
    "the particle represented by the wave packet, given by $|Ψ(x, t)|^2$."
   ]
  },
  {
   "cell_type": "markdown",
   "metadata": {},
   "source": [
    "## Problem 2"
   ]
  },
  {
   "cell_type": "code",
   "execution_count": null,
   "metadata": {},
   "outputs": [],
   "source": []
  },
  {
   "cell_type": "markdown",
   "metadata": {},
   "source": [
    "## Problem 3"
   ]
  },
  {
   "cell_type": "code",
   "execution_count": null,
   "metadata": {},
   "outputs": [],
   "source": []
  },
  {
   "cell_type": "markdown",
   "metadata": {},
   "source": [
    "## Problem 4"
   ]
  },
  {
   "cell_type": "code",
   "execution_count": null,
   "metadata": {},
   "outputs": [],
   "source": []
  },
  {
   "cell_type": "markdown",
   "metadata": {},
   "source": [
    "## Problem 5"
   ]
  },
  {
   "cell_type": "code",
   "execution_count": null,
   "metadata": {},
   "outputs": [],
   "source": []
  }
 ],
 "metadata": {
  "kernelspec": {
   "display_name": "Python 3",
   "language": "python",
   "name": "python3"
  },
  "language_info": {
   "codemirror_mode": {
    "name": "ipython",
    "version": 3
   },
   "file_extension": ".py",
   "mimetype": "text/x-python",
   "name": "python",
   "nbconvert_exporter": "python",
   "pygments_lexer": "ipython3",
   "version": "3.7.1"
  }
 },
 "nbformat": 4,
 "nbformat_minor": 2
}
